{
  "cells": [
    {
      "cell_type": "markdown",
      "metadata": {
        "id": "view-in-github",
        "colab_type": "text"
      },
      "source": [
        "<a href=\"https://colab.research.google.com/github/HxyScotthuang/Protein_folding/blob/master/cde_protein_prediction.ipynb\" target=\"_parent\"><img src=\"https://colab.research.google.com/assets/colab-badge.svg\" alt=\"Open In Colab\"/></a>"
      ]
    },
    {
      "cell_type": "markdown",
      "metadata": {
        "id": "HZgsuxJDjRF9"
      },
      "source": [
        "The aim of this notebook is to produce a neural-cde based protein folding solver. Given the input sequence of amino acid, we can convert it into the one-hot encoding, and output the corrosponding path by torsion angle in-order to have a better inductive bias"
      ]
    },
    {
      "cell_type": "markdown",
      "source": [
        "# Initialization"
      ],
      "metadata": {
        "id": "8vu7jYcjLlOX"
      }
    },
    {
      "cell_type": "code",
      "execution_count": 111,
      "metadata": {
        "colab": {
          "base_uri": "https://localhost:8080/"
        },
        "id": "ldCN1zxZi8Wz",
        "outputId": "c01bb91c-53f6-4b96-a01f-4297a5c38fd6"
      },
      "outputs": [
        {
          "output_type": "stream",
          "name": "stdout",
          "text": [
            "Drive already mounted at /content/drive; to attempt to forcibly remount, call drive.mount(\"/content/drive\", force_remount=True).\n"
          ]
        }
      ],
      "source": [
        "from google.colab import drive\n",
        "drive.mount('/content/drive')"
      ]
    },
    {
      "cell_type": "code",
      "execution_count": 112,
      "metadata": {
        "id": "daJouJzBjEA1"
      },
      "outputs": [],
      "source": [
        "import os\n",
        "os.chdir(\"/content/drive/MyDrive/Colab Notebooks/alphafold_pytorch/alphafold_pytorch-29bd20b0ca0ccd31d984a7dc53f0302d945a2ddc/\")"
      ]
    },
    {
      "cell_type": "code",
      "execution_count": 113,
      "metadata": {
        "id": "rX-P_0h0inkV",
        "colab": {
          "base_uri": "https://localhost:8080/"
        },
        "outputId": "452685ab-3b43-4adc-cfd3-c3136e758c72"
      },
      "outputs": [
        {
          "output_type": "stream",
          "name": "stdout",
          "text": [
            "Looking in indexes: https://pypi.org/simple, https://us-python.pkg.dev/colab-wheels/public/simple/\n",
            "Requirement already satisfied: torchcde in /usr/local/lib/python3.7/dist-packages (0.2.5)\n",
            "Requirement already satisfied: torchsde>=0.2.5 in /usr/local/lib/python3.7/dist-packages (from torchcde) (0.2.5)\n",
            "Requirement already satisfied: torchdiffeq>=0.2.0 in /usr/local/lib/python3.7/dist-packages (from torchcde) (0.2.3)\n",
            "Requirement already satisfied: torch>=1.7.0 in /usr/local/lib/python3.7/dist-packages (from torchcde) (1.12.1+cu113)\n",
            "Requirement already satisfied: typing-extensions in /usr/local/lib/python3.7/dist-packages (from torch>=1.7.0->torchcde) (4.1.1)\n",
            "Requirement already satisfied: scipy>=1.4.0 in /usr/local/lib/python3.7/dist-packages (from torchdiffeq>=0.2.0->torchcde) (1.7.3)\n",
            "Requirement already satisfied: numpy<1.23.0,>=1.16.5 in /usr/local/lib/python3.7/dist-packages (from scipy>=1.4.0->torchdiffeq>=0.2.0->torchcde) (1.21.6)\n",
            "Requirement already satisfied: trampoline>=0.1.2 in /usr/local/lib/python3.7/dist-packages (from torchsde>=0.2.5->torchcde) (0.1.2)\n",
            "Requirement already satisfied: boltons>=20.2.1 in /usr/local/lib/python3.7/dist-packages (from torchsde>=0.2.5->torchcde) (21.0.0)\n",
            "Looking in indexes: https://pypi.org/simple, https://us-python.pkg.dev/colab-wheels/public/simple/\n",
            "Requirement already satisfied: Biopython in /usr/local/lib/python3.7/dist-packages (1.79)\n",
            "Requirement already satisfied: numpy in /usr/local/lib/python3.7/dist-packages (from Biopython) (1.21.6)\n",
            "Looking in indexes: https://pypi.org/simple, https://us-python.pkg.dev/colab-wheels/public/simple/\n",
            "Requirement already satisfied: PeptideBuilder in /usr/local/lib/python3.7/dist-packages (1.1.0)\n",
            "Requirement already satisfied: Biopython in /usr/local/lib/python3.7/dist-packages (from PeptideBuilder) (1.79)\n",
            "Requirement already satisfied: numpy in /usr/local/lib/python3.7/dist-packages (from Biopython->PeptideBuilder) (1.21.6)\n"
          ]
        }
      ],
      "source": [
        "!pip install torchcde\n",
        "!pip install Biopython\n",
        "!pip install PeptideBuilder"
      ]
    },
    {
      "cell_type": "code",
      "execution_count": 114,
      "metadata": {
        "id": "PvbiZ0vKjLbR"
      },
      "outputs": [],
      "source": [
        "import torch\n",
        "import torchcde\n",
        "import numpy as np\n",
        "import Bio\n",
        "import math\n",
        "from Bio.PDB import *\n",
        "import torch.utils.data as Data\n",
        "from torch.utils.data import DataLoader\n",
        "import tqdm\n",
        "import matplotlib.pyplot as plt\n",
        "from mpl_toolkits.mplot3d import Axes3D\n",
        "import glob"
      ]
    },
    {
      "cell_type": "code",
      "source": [
        "# Get the pdb-file for alpha_protein: a type of protein that mainly contain alpha-helix\n",
        "text_file = open(\"/content/drive/MyDrive/Colab Notebooks/alphafold_pytorch/alphafold_pytorch-29bd20b0ca0ccd31d984a7dc53f0302d945a2ddc/alphaprotein_list.txt\", \"r\")\n",
        "PDB_list = text_file.read().split(',')\n",
        "#print(PDB_list)"
      ],
      "metadata": {
        "id": "gTQ5Hnl1Y3di"
      },
      "execution_count": 115,
      "outputs": []
    },
    {
      "cell_type": "code",
      "execution_count": 116,
      "metadata": {
        "id": "TETfd7OM10eS",
        "colab": {
          "base_uri": "https://localhost:8080/",
          "height": 53
        },
        "outputId": "4609f799-6b31-46a6-85b5-dd664d834e96"
      },
      "outputs": [
        {
          "output_type": "stream",
          "name": "stdout",
          "text": [
            "Structure exists: 'ProteinPDB/AlphaProtein/pdb6sii.ent' \n"
          ]
        },
        {
          "output_type": "execute_result",
          "data": {
            "text/plain": [
              "'ProteinPDB/AlphaProtein/pdb6sii.ent'"
            ],
            "application/vnd.google.colaboratory.intrinsic+json": {
              "type": "string"
            }
          },
          "metadata": {},
          "execution_count": 116
        }
      ],
      "source": [
        "# Download data\n",
        "'''Selecting structures from PDB'''\n",
        "parser = PDBParser(QUIET=True)\n",
        "pdbl = PDBList( )\n",
        "pdbl.retrieve_pdb_file(\"6sii\",pdir='ProteinPDB/AlphaProtein',file_format='pdb')\n",
        "#for i in PDB_list:\n",
        "    #pdbl.retrieve_pdb_file(i,pdir='ProteinPDB/AlphaProtein',file_format='pdb')"
      ]
    },
    {
      "cell_type": "code",
      "execution_count": 117,
      "metadata": {
        "id": "3qTg_yEl7poL"
      },
      "outputs": [],
      "source": [
        "# You can use a dict to convert three letter code to one letter code\n",
        "d3to1 = {'CYS': 'C', 'ASP': 'D', 'SER': 'S', 'GLN': 'Q', 'LYS': 'K',\n",
        "'ILE': 'I', 'PRO': 'P', 'THR': 'T', 'PHE': 'F', 'ASN': 'N', \n",
        "'GLY': 'G', 'HIS': 'H', 'LEU': 'L', 'ARG': 'R', 'TRP': 'W', \n",
        "'ALA': 'A', 'VAL':'V', 'GLU': 'E', 'TYR': 'Y', 'MET': 'M'}"
      ]
    },
    {
      "cell_type": "markdown",
      "source": [
        "# Extract X, the feature"
      ],
      "metadata": {
        "id": "czTHFc1_LfYq"
      }
    },
    {
      "cell_type": "code",
      "source": [
        "phys_dic = {'A': [1.28, 0.05, 1.00, 0.31, 6.11, 0.42, 0.23],\n",
        "            'C': [1.77, 0.13, 2.43, 1.54, 6.35, 0.17, 0.41],\n",
        "            'D': [1.60, 0.11, 2.78, -0.77, 2.95, 0.25, 0.20],\n",
        "            'E': [1.56, 0.15, 3.78, -0.64, 3.09, 0.42, 0.21],\n",
        "            'F': [2.94, 0.29, 5.89, 1.79, 5.67,0.30, 0.38],\n",
        "            'G': [0.00, 0.00, 0.00, 0.00, 6.07, 0.13, 0.15],\n",
        "            'H': [2.99, 0.23, 4.66, 0.13, 7.69, 0.27, 0.30],\n",
        "            'I': [4.19, 0.19, 4.00, 1.80, 6.04, 0.30, 0.45],\n",
        "            'K': [1.89, 0.22, 4.77, -0.99, 9.99, 0.32, 0.27],\n",
        "            'L': [2.59, 0.19, 4.00, 1.70, 6.04, 0.39, 0.31],\n",
        "            'M': [2.35, 0.22, 4.43, 1.23, 5.71, 0.38, 0.32],\n",
        "            'N': [1.60, 0.13, 2.95, -0.60, 6.52, 0.21, 0.22],\n",
        "            'P': [2.67, 0.00, 2.72, 0.72, 6.80, 0.13, 0.34],\n",
        "            'Q': [1.56, 0.18, 3.95, -0.22, 5.65, 0.36, 0.25],\n",
        "            'R': [2.34, 0.29, 6.13, -1.01, 10.74, 0.36, 0.25],\n",
        "            'S': [1.31, 0.06, 1.60, -0.04, 5.70, 0.20, 0.28],\n",
        "            'T': [3.03, 0.11, 2.60, 0.26, 5.60, 0.21, 0.36],\n",
        "            'V': [3.67, 0.14, 3.00, 1.22, 6.02, 0.27, 0.49],\n",
        "            'W': [3.21, 0.41, 8.08, 2.25, 5.94, 0.32, 0.42],\n",
        "            'X': [0.00, 0.00, 0.00, 0.00, 0.00, 0.00, 0.00],\n",
        "            'Y': [2.94, 0.30, 6.47, 0.96, 5.66, 0.25, 0.41]}"
      ],
      "metadata": {
        "id": "ItzSnaz5WAoY"
      },
      "execution_count": 118,
      "outputs": []
    },
    {
      "cell_type": "code",
      "source": [
        "def extract_phyChem_prop(target,target_file,phys_dic ,path = './test_data/'):\n",
        "    target_list = None\n",
        "    with open(path + f\"{target}/{target_file}.seq\",'r') as f:\n",
        "        for i,item in enumerate(f):\n",
        "          if i == 1:\n",
        "            target_list = list(item)\n",
        "    return torch.tensor([phys_dic[res] for res in target_list])"
      ],
      "metadata": {
        "id": "BnHFE3iDWBTt"
      },
      "execution_count": 119,
      "outputs": []
    },
    {
      "cell_type": "code",
      "source": [
        "extract_phyChem_prop(\"pdb1a00\",\"pdb1a00-l64_s0\",phys_dic = phys_dic).size()"
      ],
      "metadata": {
        "colab": {
          "base_uri": "https://localhost:8080/"
        },
        "id": "kzxtjIgLZl1l",
        "outputId": "ab5c0dcc-1d8f-4b63-9ab9-ff1c35a002e3"
      },
      "execution_count": 120,
      "outputs": [
        {
          "output_type": "execute_result",
          "data": {
            "text/plain": [
              "torch.Size([64, 7])"
            ]
          },
          "metadata": {},
          "execution_count": 120
        }
      ]
    },
    {
      "cell_type": "code",
      "source": [
        "import csv\n",
        "def extract_from_pssm(target, target_file, path = './test_data/'):\n",
        "    pssm_list = []\n",
        "    with open(path + f\"{target}/{target_file}.pssm\",'r') as f:\n",
        "        file_len = len(f. readlines())\n",
        "    with open (path + f\"{target}/{target_file}.pssm\", newline = '') as csvfile:\n",
        "        spamreader = csv.reader(csvfile, delimiter=' ', quotechar='|')\n",
        "        for i,row in enumerate(spamreader):\n",
        "            if i > 2 and i < file_len - 4:\n",
        "                row = [item for item in row if item != ''][2:22]\n",
        "                row = list(map(int,row))\n",
        "                pssm_list.append(row)\n",
        "    return torch.tensor(pssm_list)"
      ],
      "metadata": {
        "id": "dLHMX8rchfLi"
      },
      "execution_count": 121,
      "outputs": []
    },
    {
      "cell_type": "code",
      "source": [
        "print(extract_from_pssm(target = \"pdb6sii\", target_file = \"pdb6sii-l64_s0\",path = './test_data/').size())"
      ],
      "metadata": {
        "colab": {
          "base_uri": "https://localhost:8080/"
        },
        "id": "a-SdhWCgS2f9",
        "outputId": "bc94b082-c93b-4d19-acac-07568cf1e1e1"
      },
      "execution_count": 122,
      "outputs": [
        {
          "output_type": "stream",
          "name": "stdout",
          "text": [
            "torch.Size([64, 20])\n"
          ]
        }
      ]
    },
    {
      "cell_type": "code",
      "source": [
        "def extract_from_npy(target, target_file, path = './test_data/'):\n",
        "    dictionary = np.load(path + target + '.npy',allow_pickle = True)\n",
        "    for item in dictionary:\n",
        "      if (item['domain_name'] == target_file):\n",
        "        seq = item['sequence']\n",
        "        aatype = item['aatype']\n",
        "        hhblits_profile = item['hhblits_profile']\n",
        "        hmm_profile = item['hmm_profile']\n",
        "        break\n",
        "    return seq,torch.cat([torch.tensor(aatype),torch.tensor(hhblits_profile),torch.tensor(hmm_profile)],dim = 1)"
      ],
      "metadata": {
        "id": "mQL4Wxogd5VI"
      },
      "execution_count": 123,
      "outputs": []
    },
    {
      "cell_type": "code",
      "source": [
        "extract_from_npy(\"pdb1a00\",\"pdb1a00-l64_s0\",path = './test_data/')"
      ],
      "metadata": {
        "colab": {
          "base_uri": "https://localhost:8080/"
        },
        "id": "McqW5Zt4eeiB",
        "outputId": "843dd322-53c1-4069-8acc-9c9078b24597"
      },
      "execution_count": 124,
      "outputs": [
        {
          "output_type": "execute_result",
          "data": {
            "text/plain": [
              "('VLSPADKTNVKAAWGKVGAHAGEYGAEALERMFLSFPTTKTYFPHFDLSHGSAQVKGHGKKVAD',\n",
              " tensor([[0.0000, 0.0000, 0.0000,  ..., 0.0034, 1.0000, 1.0000],\n",
              "         [0.0000, 0.0000, 0.0000,  ..., 0.0024, 1.0000, 1.0000],\n",
              "         [0.0000, 0.0000, 0.0000,  ..., 0.0024, 0.4813, 0.4734],\n",
              "         ...,\n",
              "         [0.0000, 0.0000, 0.0000,  ..., 0.0027, 1.0000, 1.0000],\n",
              "         [1.0000, 0.0000, 0.0000,  ..., 0.0028, 1.0000, 1.0000],\n",
              "         [0.0000, 0.0000, 0.0000,  ..., 0.0035, 1.0000, 1.0000]],\n",
              "        dtype=torch.float64))"
            ]
          },
          "metadata": {},
          "execution_count": 124
        }
      ]
    },
    {
      "cell_type": "code",
      "execution_count": 125,
      "metadata": {
        "id": "82rquxK9YQun"
      },
      "outputs": [],
      "source": [
        "# Add time-augment to another channel for a path inputs\n",
        "def time_aug(inputs):\n",
        "  seqlen,channels = inputs.size()\n",
        "  t = torch.linspace(0., seqlen-1, seqlen)/seqlen\n",
        "  rep_t = t.unsqueeze(-1)\n",
        "  return torch.concat((inputs,rep_t),axis = -1)"
      ]
    },
    {
      "cell_type": "code",
      "source": [
        "def extract_input(target, target_file, phys_dic = phys_dic, path = './test_data/'):\n",
        "    pssm = extract_from_pssm(target, target_file, path)\n",
        "    phyChem = extract_phyChem_prop(target,target_file,phys_dic ,path)\n",
        "    seq,npy = extract_from_npy(target, target_file, path)\n",
        "    return seq,time_aug(torch.cat([npy,pssm,phyChem],dim = 1))"
      ],
      "metadata": {
        "id": "2rarkThYlJjg"
      },
      "execution_count": 126,
      "outputs": []
    },
    {
      "cell_type": "markdown",
      "source": [
        "The features we use for protein folding prediction is:<br>\n",
        "1. Amino acid sequence (L x 21)\n",
        "2. HHblits MSA sequence profiles (L x 22)\n",
        "3. HMM (hidden markov model) profiles (L x 30)\n",
        "4. PSSM/PSI-BLAST (L x 20)\n",
        "5. Physicochemical properties (L x 7)\n",
        "6. Time (L x 1)\n",
        "\n",
        "So the total input path we have is a path of shape L x 101"
      ],
      "metadata": {
        "id": "KKWjO_RDJ9oj"
      }
    },
    {
      "cell_type": "markdown",
      "source": [
        "# Extract label/backbone path"
      ],
      "metadata": {
        "id": "ataRSRGnLZW3"
      }
    },
    {
      "cell_type": "markdown",
      "metadata": {
        "id": "vvuMPfHjjOyr"
      },
      "source": [
        "\n",
        "The input pipeline is to extract the backbone of the protein for a given file. We crop the sequence into the segment of 64, as it is the empirical bound for distinguish protein and polypeptide\n",
        "\n",
        "Here, we have implemented 2 versions of prediction: \n",
        "  1. 3-D coordinates of nomalized position\n",
        "  2. Φ,Ψ Ramachandran torsion angles <br>\n",
        "You can switch from 2 versions by changing MODE to **'coord'** or **'torsion'**"
      ]
    },
    {
      "cell_type": "code",
      "execution_count": 127,
      "metadata": {
        "id": "sTjTXGQVd9cO"
      },
      "outputs": [],
      "source": [
        "#MODE = 'torsion' # Here we have changed to torsion mode\n",
        "MODE = 'coord'"
      ]
    },
    {
      "cell_type": "markdown",
      "metadata": {
        "id": "aIw770yGm1Zg"
      },
      "source": [
        "First,some utility functions:"
      ]
    },
    {
      "cell_type": "code",
      "execution_count": 128,
      "metadata": {
        "id": "eW8eVMnMjONF"
      },
      "outputs": [],
      "source": [
        "# Here, X represents un-identified residue. This acts likes a default position\n",
        "def sequence_to_onehot(seq):\n",
        "    mapping = {aa: i for i, aa in enumerate('ARNDCQEGHILKMFPSTWYVX')}\n",
        "    num_entries = max(mapping.values()) + 1\n",
        "    one_hot_arr = np.zeros((len(seq), num_entries), dtype=np.float32)\n",
        "    for aa_index, aa_type in enumerate(seq):\n",
        "        aa_id = mapping[aa_type]\n",
        "        one_hot_arr[aa_index, aa_id] = 1\n",
        "    return one_hot_arr\n",
        "    \n",
        "def onehot_to_sequence(seq):\n",
        "    mapping = {i: aa for i, aa in enumerate('ARNDCQEGHILKMFPSTWYVX')}\n",
        "    amino_seq = \"\"\n",
        "    for item in seq:\n",
        "      assert sum(item) == 1\n",
        "      for i,index in enumerate(item):\n",
        "        if index == 1:\n",
        "          amino_seq += mapping[i]\n",
        "          break\n",
        "    assert len(amino_seq) == len(seq)\n",
        "    return amino_seq"
      ]
    },
    {
      "cell_type": "code",
      "execution_count": 129,
      "metadata": {
        "id": "cGbXXRfdbXlp"
      },
      "outputs": [],
      "source": [
        "def extract_phi_psi(thisdict):\n",
        "  if thisdict['phi_degree'] is None:\n",
        "    return [thisdict['psi_degree']]\n",
        "  elif thisdict['psi_degree'] is None:\n",
        "    return [thisdict['phi_degree']]\n",
        "  elif thisdict['phi_degree'] is None and thisdict['psi_degree'] is None:\n",
        "    return []\n",
        "  return [thisdict['phi_degree'],thisdict['psi_degree']]"
      ]
    },
    {
      "cell_type": "code",
      "execution_count": 130,
      "metadata": {
        "id": "fSGnbXneXJPX"
      },
      "outputs": [],
      "source": [
        "def yieldPhiPsi(model):\n",
        "    for chain in model:\n",
        "        polypeptides = Bio.PDB.PPBuilder().build_peptides(chain)\n",
        "        for poly_index, poly in enumerate(polypeptides):\n",
        "            phi_psi = poly.get_phi_psi_list()\n",
        "            for res_index, residue in enumerate(poly):\n",
        "                phi, psi = phi_psi[res_index]\n",
        "                yield dict( \n",
        "                           residue_name=residue.resname, \n",
        "                           phi_radian=phi, psi_radian=psi, \n",
        "                           phi_degree = degrees(phi),\n",
        "                           psi_degree = degrees(psi))"
      ]
    },
    {
      "cell_type": "code",
      "execution_count": 131,
      "metadata": {
        "id": "ozTVrRrGYQ1s"
      },
      "outputs": [],
      "source": [
        "def degrees(rad_angle) :\n",
        "    # Converts any angle in radians to degrees [-180,180]\n",
        "    if rad_angle is None :\n",
        "        return None\n",
        "    angle = rad_angle * 180 / math.pi\n",
        "    while angle > 180 :\n",
        "        angle = angle - 360\n",
        "    while angle < -180 :\n",
        "        angle = angle + 360\n",
        "    return angle"
      ]
    },
    {
      "cell_type": "markdown",
      "source": [
        "Here, we define **normalized** path by:\n",
        "1. The first point is fixed at (0,0,0)\n",
        "2. The first bond is in direction of x-axis\n",
        "3. The first 3 points lie in plane formed by y-axis and z-axis"
      ],
      "metadata": {
        "id": "okzU5zPvSRuG"
      }
    },
    {
      "cell_type": "code",
      "source": [
        "# Normalizing procedure: map a path in space to it's normalize position\n",
        "def rotation_Transform(path): # path is a list of points in the backbone\n",
        "  def normalize(v):\n",
        "      norm = np.linalg.norm(v)\n",
        "      if norm == 0: \n",
        "        return v\n",
        "      return v / norm\n",
        "  o1 = np.matrix([0,0,0]).T\n",
        "  M1 = np.matrix([[1,0,0],[0,1,0],[0,0,1]])\n",
        "  o2 = np.matrix(path[0]).T\n",
        "  v1 = normalize(np.array(path[1])-np.array(path[0]))\n",
        "  v2 = normalize(np.cross(np.array(path[2])-np.array(path[1]), np.array(path[1])-np.array(path[0])))\n",
        "  v3 = np.cross(v1, v2)\n",
        "  M2 = np.matrix([v1,v2,v3]).T\n",
        "  path_transformed = [torch.tensor(np.matmul(np.transpose(M2), o1-o2+M1 * np.matrix(p).T)) for p in path]\n",
        "  path_transformed = torch.squeeze(torch.stack(path_transformed,dim = 0))\n",
        "  return path_transformed"
      ],
      "metadata": {
        "id": "lLDmt1ZB7LwD"
      },
      "execution_count": 132,
      "outputs": []
    },
    {
      "cell_type": "markdown",
      "source": [
        "Now we have our procedure of extracting the path, for both 3D-coordinates path and Torsion-angle path"
      ],
      "metadata": {
        "id": "Llg08pSYWaM5"
      }
    },
    {
      "cell_type": "code",
      "execution_count": 133,
      "metadata": {
        "id": "MJWcBHXsMiS2"
      },
      "outputs": [],
      "source": [
        "def get_indiv_from_pdb(pdb_file, path ,mode = 'coord'):\n",
        "  structure = parser.get_structure(\"MyProtein\", path + pdb_file)\n",
        "  if mode == 'coord':\n",
        "    # Coordinate version\n",
        "    Backbone = [] \n",
        "    Seq = []\n",
        "    chains = structure[0]\n",
        "    for chain in chains:\n",
        "        for res_index,residue in enumerate(chain):\n",
        "          if residue.resname in d3to1.keys():\n",
        "              Seq.append(d3to1[residue.resname])\n",
        "              for atom in residue:\n",
        "                  if (atom.get_name() in ['N','CA','C']):         \n",
        "                    coord = list(atom.get_coord())\n",
        "                    Backbone += [coord]\n",
        "\n",
        "    assert len(Seq)*3 == len(Backbone)\n",
        "    # Return the normalized version of Backbone\n",
        "    return Seq, rotation_Transform(Backbone)\n",
        "  else:\n",
        "    #Torsion version\n",
        "    structure = [structure[0]] # force this to be the first \n",
        "    list_torsion = [x for x in yieldPhiPsi(structure)] # list of dict\n",
        "    Seq = [d3to1[item['residue_name']] for item in list_torsion]\n",
        "    Backbone = [extract_phi_psi(item) for item in list_torsion]\n",
        "    Backbone = [item for sublist in Backbone for item in sublist if item is not None]\n",
        "    try:\n",
        "      # as we ignore the first and last None, and each amino acid produces 2 angles\n",
        "      assert 2*len(Seq)-2 == len(Backbone)\n",
        "    except:\n",
        "      return (None,None) #discard this record\n",
        "    return Seq, Backbone"
      ]
    },
    {
      "cell_type": "code",
      "source": [
        "def extract_output(target,WINDOW,start,path ='./ProteinPDB/AlphaProtein/',mode = 'coord'):\n",
        "  file = target+\".ent\"\n",
        "  seq,y = get_indiv_from_pdb(file, path = path,mode = mode)\n",
        "  return \"\".join(seq[start:start+WINDOW]),torch.tensor(y[start:start+WINDOW])"
      ],
      "metadata": {
        "id": "x6Tzbsm_PfFg"
      },
      "execution_count": 134,
      "outputs": []
    },
    {
      "cell_type": "markdown",
      "source": [
        "# (Not useful/outdated functions)"
      ],
      "metadata": {
        "id": "HE9sCF7EU0XR"
      }
    },
    {
      "cell_type": "code",
      "execution_count": 135,
      "metadata": {
        "id": "XTf3ByRZLeKy",
        "colab": {
          "base_uri": "https://localhost:8080/",
          "height": 0
        },
        "outputId": "1ea42092-75d2-4a00-8481-46c44a6e8934"
      },
      "outputs": [
        {
          "output_type": "execute_result",
          "data": {
            "text/plain": [
              "\"\\ndef crop_data(X,y,window,Mode = 'coord'):\\n    # return the cropped version of sequence. \\n    assert len(X) == len(y)\\n    cropped_X = []\\n    cropped_y = []\\n    for i in range(len(X)):\\n      if len(X[i]) < window:\\n        continue\\n      total_seq_len = len(X[i])\\n      total_backbone_len = len(y[i])\\n      if Mode == 'coord':\\n          if total_backbone_len != 3*total_seq_len:\\n            continue\\n          for j in range(int(total_seq_len/window)):\\n              cropped_X.append(X[i][j:j+window])\\n              cropped_y.append(rotation_Transform(y[i][3*j:3*(j+window)]))\\n          # pad the last part\\n          if total_seq_len%window != 0:\\n              cropped_X.append(X[i][-window:])\\n              cropped_y.append(rotation_Transform(y[i][-3*window:]))\\n      else:\\n         # torsion angle cases\\n         if total_backbone_len != 2*(total_seq_len - 1):\\n           continue\\n         for j in range(int(total_seq_len/window)):\\n              cropped_X.append(X[i][j:j+window])\\n              cropped_y.append(y[i][2*j:2*(j+window)-1])\\n          # pad the last part\\n         if total_seq_len%window != 0:\\n             cropped_X.append(X[i][-window:])\\n             cropped_y.append(y[i][-2*window+1:])\\n    return torch.stack(cropped_X,0),torch.stack(cropped_y,0).float()\\n\""
            ],
            "application/vnd.google.colaboratory.intrinsic+json": {
              "type": "string"
            }
          },
          "metadata": {},
          "execution_count": 135
        }
      ],
      "source": [
        "# This crop_data only works for non-MSA case. In MSA case, the data is already cropped.\n",
        "'''\n",
        "def crop_data(X,y,window,Mode = 'coord'):\n",
        "    # return the cropped version of sequence. \n",
        "    assert len(X) == len(y)\n",
        "    cropped_X = []\n",
        "    cropped_y = []\n",
        "    for i in range(len(X)):\n",
        "      if len(X[i]) < window:\n",
        "        continue\n",
        "      total_seq_len = len(X[i])\n",
        "      total_backbone_len = len(y[i])\n",
        "      if Mode == 'coord':\n",
        "          if total_backbone_len != 3*total_seq_len:\n",
        "            continue\n",
        "          for j in range(int(total_seq_len/window)):\n",
        "              cropped_X.append(X[i][j:j+window])\n",
        "              cropped_y.append(rotation_Transform(y[i][3*j:3*(j+window)]))\n",
        "          # pad the last part\n",
        "          if total_seq_len%window != 0:\n",
        "              cropped_X.append(X[i][-window:])\n",
        "              cropped_y.append(rotation_Transform(y[i][-3*window:]))\n",
        "      else:\n",
        "         # torsion angle cases\n",
        "         if total_backbone_len != 2*(total_seq_len - 1):\n",
        "           continue\n",
        "         for j in range(int(total_seq_len/window)):\n",
        "              cropped_X.append(X[i][j:j+window])\n",
        "              cropped_y.append(y[i][2*j:2*(j+window)-1])\n",
        "          # pad the last part\n",
        "         if total_seq_len%window != 0:\n",
        "             cropped_X.append(X[i][-window:])\n",
        "             cropped_y.append(y[i][-2*window+1:])\n",
        "    return torch.stack(cropped_X,0),torch.stack(cropped_y,0).float()\n",
        "'''"
      ]
    },
    {
      "cell_type": "code",
      "source": [
        "# As getting data from path requires a lot of time, it would be easy to store them in a json file temporarily for future use\n",
        "'''\n",
        "import json\n",
        "print(X_crop.size())\n",
        "with open('X_pdb_alpha.json', 'w') as f:\n",
        "    json.dump(X_crop.tolist(), f)\n",
        "with open('y_pdb_alpha.json', 'w') as f:\n",
        "    json.dump(y_crop.tolist(), f)\n",
        "'''"
      ],
      "metadata": {
        "colab": {
          "base_uri": "https://localhost:8080/",
          "height": 0
        },
        "id": "EsMV_yVHmawI",
        "outputId": "143a2d93-4911-4800-d794-0f57d33ace2d"
      },
      "execution_count": 136,
      "outputs": [
        {
          "output_type": "execute_result",
          "data": {
            "text/plain": [
              "\"\\nimport json\\nprint(X_crop.size())\\nwith open('X_pdb_alpha.json', 'w') as f:\\n    json.dump(X_crop.tolist(), f)\\nwith open('y_pdb_alpha.json', 'w') as f:\\n    json.dump(y_crop.tolist(), f)\\n\""
            ],
            "application/vnd.google.colaboratory.intrinsic+json": {
              "type": "string"
            }
          },
          "metadata": {},
          "execution_count": 136
        }
      ]
    },
    {
      "cell_type": "code",
      "source": [
        "'''\n",
        "import json\n",
        "with open('X_pdb_alpha.json', 'r') as f:\n",
        "    X_crop = torch.tensor(json.load(f))\n",
        "with open('y_pdb_alpha.json', 'r') as f:\n",
        "    y_crop = torch.tensor(json.load(f))\n",
        "'''"
      ],
      "metadata": {
        "id": "sQOfY0VcGOLB",
        "colab": {
          "base_uri": "https://localhost:8080/",
          "height": 0
        },
        "outputId": "bc527ba7-034b-4abb-bd0a-5e7bf3f4732c"
      },
      "execution_count": 137,
      "outputs": [
        {
          "output_type": "execute_result",
          "data": {
            "text/plain": [
              "\"\\nimport json\\nwith open('X_pdb_alpha.json', 'r') as f:\\n    X_crop = torch.tensor(json.load(f))\\nwith open('y_pdb_alpha.json', 'r') as f:\\n    y_crop = torch.tensor(json.load(f))\\n\""
            ],
            "application/vnd.google.colaboratory.intrinsic+json": {
              "type": "string"
            }
          },
          "metadata": {},
          "execution_count": 137
        }
      ]
    },
    {
      "cell_type": "markdown",
      "source": [
        "# Processing data and convert into dataset format"
      ],
      "metadata": {
        "id": "OAY4gzpWU7HX"
      }
    },
    {
      "cell_type": "code",
      "source": [
        "def extract_X_y(target,WINDOW,start,x_path = './test_data/',y_path = './ProteinPDB/AlphaProtein/',mode = 'coord'):\n",
        "  seqx,X = extract_input(target,f\"{target}-l{WINDOW}_s{start}\",path = x_path)\n",
        "  seqy,y = extract_output(target,WINDOW,start,path = y_path,mode = mode)\n",
        "  try:\n",
        "    assert seqx == seqy\n",
        "  except:\n",
        "    raise RuntimeError(f\"{seqx} is not equal to {seqy} at {target}-l{WINDOW}_s{start}\")\n",
        "  return X,y"
      ],
      "metadata": {
        "id": "K6XxSt7JbO6A"
      },
      "execution_count": 138,
      "outputs": []
    },
    {
      "cell_type": "code",
      "source": [
        "def load_dataset(WINDOW,x_path = './test_data/',y_path = './ProteinPDB/AlphaProtein/',mode = 'coord'):\n",
        "  if (WINDOW != 64) and (WINDOW != 128) and (WINDOW != 256):\n",
        "    raise RuntimeError(\"WINDOW must be one of 64, 128, or 256\")\n",
        "  X_all = []\n",
        "  y_all = []\n",
        "  for file in glob.glob(x_path+\"*.npy\"):\n",
        "    len_x_path = len(x_path)\n",
        "    target = file[len_x_path:-4]\n",
        "    dictionary = np.load(file,allow_pickle=True)\n",
        "    for item in dictionary:\n",
        "      if f\"-l{WINDOW}\" in (item[\"domain_name\"]):\n",
        "        _, rhs = item[\"domain_name\"].split(\"_s\", 1)\n",
        "        start = int(rhs)\n",
        "        '''\n",
        "        ---------------------------------------------------------------------------\n",
        "        Ignore this, this just deal with test example T1019s2, does not really matter.\n",
        "        For future use, delete these code inside and delete T1019s2 completely from the ./test_data/\n",
        "        '''\n",
        "        if target == \"T1019s2\":\n",
        "          break\n",
        "        '''\n",
        "        ---------------------------------------------------------------------------\n",
        "        '''\n",
        "        X,y = extract_X_y(target,WINDOW,start,x_path = x_path, y_path=y_path,mode = mode)\n",
        "        X_all.append(X)\n",
        "        y_all.append(y)\n",
        "  return torch.stack(X_all), torch.stack(y_all)"
      ],
      "metadata": {
        "id": "nVIIVBmib0tJ"
      },
      "execution_count": 139,
      "outputs": []
    },
    {
      "cell_type": "code",
      "source": [
        "WINDOW = 64\n",
        "%cd /content/drive/MyDrive/Colab Notebooks/alphafold_pytorch/alphafold_pytorch-29bd20b0ca0ccd31d984a7dc53f0302d945a2ddc/\n",
        "X,y = load_dataset(WINDOW = WINDOW,x_path = './test_data/',y_path = './ProteinPDB/AlphaProtein/')"
      ],
      "metadata": {
        "id": "FlAmccq_lq5T",
        "outputId": "198fb582-57ce-44cc-9365-0bf0c2a3cc74",
        "colab": {
          "base_uri": "https://localhost:8080/"
        }
      },
      "execution_count": 140,
      "outputs": [
        {
          "output_type": "stream",
          "name": "stdout",
          "text": [
            "/content\n",
            "20 7 73\n"
          ]
        },
        {
          "output_type": "stream",
          "name": "stderr",
          "text": [
            "/usr/local/lib/python3.7/dist-packages/ipykernel_launcher.py:4: UserWarning: To copy construct from a tensor, it is recommended to use sourceTensor.clone().detach() or sourceTensor.clone().detach().requires_grad_(True), rather than torch.tensor(sourceTensor).\n",
            "  after removing the cwd from sys.path.\n"
          ]
        },
        {
          "output_type": "stream",
          "name": "stdout",
          "text": [
            "20 7 73\n"
          ]
        },
        {
          "output_type": "stream",
          "name": "stderr",
          "text": [
            "/usr/local/lib/python3.7/dist-packages/ipykernel_launcher.py:4: UserWarning: To copy construct from a tensor, it is recommended to use sourceTensor.clone().detach() or sourceTensor.clone().detach().requires_grad_(True), rather than torch.tensor(sourceTensor).\n",
            "  after removing the cwd from sys.path.\n"
          ]
        },
        {
          "output_type": "stream",
          "name": "stdout",
          "text": [
            "20 7 73\n"
          ]
        },
        {
          "output_type": "stream",
          "name": "stderr",
          "text": [
            "/usr/local/lib/python3.7/dist-packages/ipykernel_launcher.py:4: UserWarning: To copy construct from a tensor, it is recommended to use sourceTensor.clone().detach() or sourceTensor.clone().detach().requires_grad_(True), rather than torch.tensor(sourceTensor).\n",
            "  after removing the cwd from sys.path.\n"
          ]
        },
        {
          "output_type": "stream",
          "name": "stdout",
          "text": [
            "20 7 73\n"
          ]
        },
        {
          "output_type": "stream",
          "name": "stderr",
          "text": [
            "/usr/local/lib/python3.7/dist-packages/ipykernel_launcher.py:4: UserWarning: To copy construct from a tensor, it is recommended to use sourceTensor.clone().detach() or sourceTensor.clone().detach().requires_grad_(True), rather than torch.tensor(sourceTensor).\n",
            "  after removing the cwd from sys.path.\n"
          ]
        },
        {
          "output_type": "stream",
          "name": "stdout",
          "text": [
            "20 7 73\n"
          ]
        },
        {
          "output_type": "stream",
          "name": "stderr",
          "text": [
            "/usr/local/lib/python3.7/dist-packages/ipykernel_launcher.py:4: UserWarning: To copy construct from a tensor, it is recommended to use sourceTensor.clone().detach() or sourceTensor.clone().detach().requires_grad_(True), rather than torch.tensor(sourceTensor).\n",
            "  after removing the cwd from sys.path.\n"
          ]
        },
        {
          "output_type": "stream",
          "name": "stdout",
          "text": [
            "20 7 73\n"
          ]
        },
        {
          "output_type": "stream",
          "name": "stderr",
          "text": [
            "/usr/local/lib/python3.7/dist-packages/ipykernel_launcher.py:4: UserWarning: To copy construct from a tensor, it is recommended to use sourceTensor.clone().detach() or sourceTensor.clone().detach().requires_grad_(True), rather than torch.tensor(sourceTensor).\n",
            "  after removing the cwd from sys.path.\n"
          ]
        },
        {
          "output_type": "stream",
          "name": "stdout",
          "text": [
            "20 7 73\n"
          ]
        },
        {
          "output_type": "stream",
          "name": "stderr",
          "text": [
            "/usr/local/lib/python3.7/dist-packages/ipykernel_launcher.py:4: UserWarning: To copy construct from a tensor, it is recommended to use sourceTensor.clone().detach() or sourceTensor.clone().detach().requires_grad_(True), rather than torch.tensor(sourceTensor).\n",
            "  after removing the cwd from sys.path.\n"
          ]
        },
        {
          "output_type": "stream",
          "name": "stdout",
          "text": [
            "20 7 73\n"
          ]
        },
        {
          "output_type": "stream",
          "name": "stderr",
          "text": [
            "/usr/local/lib/python3.7/dist-packages/ipykernel_launcher.py:4: UserWarning: To copy construct from a tensor, it is recommended to use sourceTensor.clone().detach() or sourceTensor.clone().detach().requires_grad_(True), rather than torch.tensor(sourceTensor).\n",
            "  after removing the cwd from sys.path.\n"
          ]
        },
        {
          "output_type": "stream",
          "name": "stdout",
          "text": [
            "20 7 73\n"
          ]
        },
        {
          "output_type": "stream",
          "name": "stderr",
          "text": [
            "/usr/local/lib/python3.7/dist-packages/ipykernel_launcher.py:4: UserWarning: To copy construct from a tensor, it is recommended to use sourceTensor.clone().detach() or sourceTensor.clone().detach().requires_grad_(True), rather than torch.tensor(sourceTensor).\n",
            "  after removing the cwd from sys.path.\n"
          ]
        },
        {
          "output_type": "stream",
          "name": "stdout",
          "text": [
            "20 7 73\n"
          ]
        },
        {
          "output_type": "stream",
          "name": "stderr",
          "text": [
            "/usr/local/lib/python3.7/dist-packages/ipykernel_launcher.py:4: UserWarning: To copy construct from a tensor, it is recommended to use sourceTensor.clone().detach() or sourceTensor.clone().detach().requires_grad_(True), rather than torch.tensor(sourceTensor).\n",
            "  after removing the cwd from sys.path.\n"
          ]
        }
      ]
    },
    {
      "cell_type": "markdown",
      "source": [
        "There are several potential cropping methods we might have:\n",
        "\n",
        "Use another cropping methods:\n",
        "- Slides-window\n",
        "- No crop, use full sequence\n",
        "\n",
        "Here we choose to have the cropping method shown in alphafold, which can be demostrate like this:\n",
        " \n",
        " \n",
        "\n",
        "```\n",
        "start                                                   end\n",
        "|                                                       |\n",
        "i       crop_size_x       end_x            i                    end_x\n",
        "|----------------------------------------|              |----------------------------------------|\n",
        "....................KVEPVGNAYGHWTKHGKEFPEYQNAKQYVDAAHNFMTNPPLTNPPPGTLTKTRPNGD.....................\n",
        "|___________________|________________________________________|              |____________________|\n",
        "prepad_x      0                 crop_size_x            L      postpad_x\n",
        "          ic\n",
        "```\n",
        "\n",
        "\n"
      ],
      "metadata": {
        "id": "ioFL4Os4t_1h"
      }
    },
    {
      "cell_type": "markdown",
      "metadata": {
        "id": "LizDg28sQBsI"
      },
      "source": [
        "Process the data and store it into the dataset format:"
      ]
    },
    {
      "cell_type": "code",
      "execution_count": 141,
      "metadata": {
        "id": "2yiwPcnOoGyh",
        "colab": {
          "base_uri": "https://localhost:8080/"
        },
        "outputId": "c1c9625e-202e-4818-9c94-2a72a34505ae"
      },
      "outputs": [
        {
          "output_type": "stream",
          "name": "stdout",
          "text": [
            "7\n"
          ]
        }
      ],
      "source": [
        "POR_TRAIN = 0.7 # we assume all of the data are for training\n",
        "total_num = X.size(0)\n",
        "train_size = int(POR_TRAIN * total_num)\n",
        "print(train_size)\n",
        "if MODE == \"coord\":\n",
        "  X_train = X[:train_size,:,:]\n",
        "  y_train = y[:train_size,:,:]\n",
        "  X_test = X[train_size:,:,:]\n",
        "  y_test = y[train_size:,:,:]\n",
        "elif MODE == \"torsion\":\n",
        "  X_train = X[:train_size,:,:]\n",
        "  y_train = y[:train_size,:]\n",
        "  X_test = X[train_size:,:,:]\n",
        "  y_test = y[train_size:,:]\n",
        "else:\n",
        "  raise RuntimeError(f\"Does not recognize mode {MODE}\")\n"
      ]
    },
    {
      "cell_type": "markdown",
      "source": [
        "# Define Model: Neural CDE"
      ],
      "metadata": {
        "id": "gjjNMUtXVHzj"
      }
    },
    {
      "cell_type": "markdown",
      "source": [
        "Here we define our model: Neural Controlled  Differential Equations (Neural CDE) \n",
        "\n",
        "$$\n",
        "z_{t}=z_{t_{0}}+\\int_{t_{0}}^{t} f_{\\theta}\\left(z_{s}\\right) \\mathrm{d} X_{s} \\quad \\text { for } t \\in\\left(t_{0}, t_{n}\\right]\n",
        "$$\n",
        "\n",
        "\n",
        "![main.png](data:image/png;base64,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)\n",
        "\n",
        "An example file of how to use torchcde is placed here in the github:\n",
        "https://github.com/patrick-kidger/torchcde/blob/master/example/time_series_classification.py"
      ],
      "metadata": {
        "id": "moFtdEGJUlY0"
      }
    },
    {
      "cell_type": "code",
      "execution_count": 142,
      "metadata": {
        "id": "8WlKsMGg_i79"
      },
      "outputs": [],
      "source": [
        "class CDEFunc(torch.nn.Module):\n",
        "    def __init__(self, input_channels, hidden_channels,internal_hid_channels = 128):\n",
        "        ######################\n",
        "        # input_channels is the number of input channels in the data X. (Determined by the data.)\n",
        "        # hidden_channels is the number of channels for z_t. (Determined by you!)\n",
        "        ######################\n",
        "        super(CDEFunc, self).__init__()\n",
        "        self.input_channels = input_channels\n",
        "        self.hidden_channels = hidden_channels\n",
        "        self.linear1 = torch.nn.Linear(hidden_channels, internal_hid_channels)\n",
        "        self.linear2 = torch.nn.Linear(internal_hid_channels, input_channels * hidden_channels)\n",
        "\n",
        "    ######################\n",
        "    # For most purposes the t argument can probably be ignored; unless you want your CDE to behave differently at\n",
        "    # different times, which would be unusual. But it's there if you need it!\n",
        "    ######################\n",
        "    def forward(self, t, z):\n",
        "        # z has shape (batch, hidden_channels)\n",
        "        z = self.linear1(z)\n",
        "        z = z.relu()\n",
        "        z = self.linear2(z)\n",
        "        ######################\n",
        "        # Easy-to-forget gotcha: Best results tend to be obtained by adding a final tanh nonlinearity.\n",
        "        ######################\n",
        "        z = z.tanh()\n",
        "        ######################\n",
        "        # Ignoring the batch dimension, the shape of the output tensor must be a matrix,\n",
        "        # because we need it to represent a linear map from R^input_channels to R^hidden_channels.\n",
        "        ######################\n",
        "        z = z.view(z.size(0), self.hidden_channels, self.input_channels)\n",
        "        return z\n"
      ]
    },
    {
      "cell_type": "code",
      "execution_count": 143,
      "metadata": {
        "id": "W3peZP2n_RYF"
      },
      "outputs": [],
      "source": [
        "######################\n",
        "# Next, we need to package CDEFunc up into a model that computes the integral.\n",
        "######################\n",
        "class NeuralCDE(torch.nn.Module):\n",
        "    def __init__(self, input_channels, hidden_channels, output_channels, interpolation=\"linear\",mode = 'coord'):\n",
        "        super(NeuralCDE, self).__init__()\n",
        "        self.func = CDEFunc(input_channels, hidden_channels)\n",
        "        self.initial = torch.nn.Linear(input_channels, hidden_channels)\n",
        "        self.readout = torch.nn.Linear(hidden_channels, output_channels)\n",
        "        self.interpolation = interpolation\n",
        "        self.mode = mode\n",
        "\n",
        "    def forward(self, coeffs):\n",
        "        batch_num = coeffs.size(0)\n",
        "        if self.interpolation == 'cubic':\n",
        "            X = torchcde.CubicSpline(coeffs)\n",
        "        elif self.interpolation == 'linear':\n",
        "            X = torchcde.LinearInterpolation(coeffs)\n",
        "        else:\n",
        "            raise ValueError(\"Only 'linear' and 'cubic' interpolation methods are implemented.\")\n",
        "\n",
        "        ######################\n",
        "        # Easy to forget gotcha: Initial hidden state should be a function of the first observation.\n",
        "        ######################\n",
        "        # print(X.interval) # [0,8] \n",
        "        X0 = X.evaluate(X.interval[0])\n",
        "        z0 = self.initial(X0)\n",
        "\n",
        "        adjoint_params = tuple(self.func.parameters()) + (coeffs,)\n",
        "        ######################\n",
        "        # Actually solve the CDE.\n",
        "        ######################\n",
        "        z_T = torchcde.cdeint(X=X,\n",
        "                              z0=z0,\n",
        "                              func=self.func,\n",
        "                              t=X.interval,\n",
        "                              adjoint = True,\n",
        "                              adjoint_params = adjoint_params,\n",
        "                              method='euler',\n",
        "                              )\n",
        "\n",
        "        ######################\n",
        "        # Both the initial value and the terminal value are returned from cdeint; extract just the terminal value,\n",
        "        # and then apply a linear map.\n",
        "        ######################\n",
        "        z_T = z_T[:, 1]\n",
        "        pred_y = self.readout(z_T)\n",
        "        if self.mode == 'coord':\n",
        "          pred_y = pred_y.view(batch_num,-1,3)\n",
        "        return pred_y"
      ]
    },
    {
      "cell_type": "code",
      "execution_count": 144,
      "metadata": {
        "id": "ubqiNW7URjqP",
        "colab": {
          "base_uri": "https://localhost:8080/"
        },
        "outputId": "400f31f0-0ea4-4073-895e-c149ea5df797"
      },
      "outputs": [
        {
          "output_type": "stream",
          "name": "stdout",
          "text": [
            "101 3\n"
          ]
        }
      ],
      "source": [
        "# The input channel and the output channels\n",
        "# Here time is also included in this one-hot sequence\n",
        "if MODE == 'coord':\n",
        "    print(X.size(2),y.size(2))\n",
        "else:\n",
        "    print(X.size(2),y.size())"
      ]
    },
    {
      "cell_type": "markdown",
      "source": [
        "We define our own path-loss by mean of point-wise euclidean distance in the coordinate modes"
      ],
      "metadata": {
        "id": "NZ0zGjJpblxL"
      }
    },
    {
      "cell_type": "code",
      "source": [
        "class MyMSELoss(torch.nn.Module):\n",
        "    def __init__(self):\n",
        "        super(MyMSELoss, self).__init__()\n",
        "\n",
        "    def forward(self, inputs, targets):        \n",
        "        #batch_size, seq_len, channel = inputs.size()\n",
        "        diff = torch.sub(inputs,targets)\n",
        "        \n",
        "        sqr = torch.square(diff)\n",
        "        add_up = torch.sum(sqr,axis = -1)\n",
        "        sqrt = torch.sqrt(add_up)\n",
        "        seq_of_loss = torch.mean(sqrt,axis = -1)\n",
        "        loss = torch.mean(seq_of_loss,axis = 0)\n",
        "\n",
        "        return loss\n"
      ],
      "metadata": {
        "id": "AgeVYwe1GFd_"
      },
      "execution_count": 145,
      "outputs": []
    },
    {
      "cell_type": "code",
      "execution_count": 146,
      "metadata": {
        "id": "vhcpsOGJC5vd"
      },
      "outputs": [],
      "source": [
        "if MODE == 'coord':\n",
        "  model = NeuralCDE(input_channels=X.size(2), hidden_channels=8, output_channels= y.size(1) * y.size(2))\n",
        "else:\n",
        "  model = NeuralCDE(input_channels=X.size(2), hidden_channels=8, output_channels= y.size(1) ,mode = MODE)\n",
        "\n",
        "optimizer = torch.optim.SGD(model.parameters(),lr = 0.001)\n",
        "l2_loss = MyMSELoss()"
      ]
    },
    {
      "cell_type": "markdown",
      "source": [
        "# Training"
      ],
      "metadata": {
        "id": "VCHFhfBHVMbj"
      }
    },
    {
      "cell_type": "markdown",
      "metadata": {
        "id": "fhA0IiASR6W0"
      },
      "source": [
        "Now after we have these one-hot encoding of sequence along with other features, we want to turn this into the continuous path. This can be done via internal method of NeuralCDE"
      ]
    },
    {
      "cell_type": "code",
      "execution_count": 147,
      "metadata": {
        "id": "VSYwiEaETOXU"
      },
      "outputs": [],
      "source": [
        "train_coeffs = torchcde.linear_interpolation_coeffs(X_train, rectilinear=0)\n",
        "train_dataset = torch.utils.data.TensorDataset(train_coeffs, y_train)\n",
        "train_dataloader = torch.utils.data.DataLoader(train_dataset, batch_size=16)"
      ]
    },
    {
      "cell_type": "code",
      "execution_count": 148,
      "metadata": {
        "id": "bpWLN5-5VlgW"
      },
      "outputs": [],
      "source": [
        "# GPU support\n",
        "device = torch.device('cuda' if torch.cuda.is_available() else 'cpu')\n",
        "model = model.to(device)"
      ]
    },
    {
      "cell_type": "code",
      "execution_count": 149,
      "metadata": {
        "id": "K5dyp-XbUHwu"
      },
      "outputs": [],
      "source": [
        "num_epochs = 50"
      ]
    },
    {
      "cell_type": "markdown",
      "source": [
        "If the model is already trained, we can continue our training by loading the existing model\n"
      ],
      "metadata": {
        "id": "Okp6lkO009kx"
      }
    },
    {
      "cell_type": "code",
      "source": [
        "PATH = \"/content/drive/MyDrive/Colab Notebooks/alphafold_pytorch/alphafold_pytorch-29bd20b0ca0ccd31d984a7dc53f0302d945a2ddc/cde_model\"\n",
        "#model = torch.load(PATH).to(device)"
      ],
      "metadata": {
        "id": "S6x-1tSiPAn8"
      },
      "execution_count": 150,
      "outputs": []
    },
    {
      "cell_type": "code",
      "execution_count": 151,
      "metadata": {
        "id": "amyEkYwURviH",
        "colab": {
          "base_uri": "https://localhost:8080/",
          "height": 411
        },
        "outputId": "8bb6d263-83f6-47a1-97d0-cc45281323b0"
      },
      "outputs": [
        {
          "output_type": "stream",
          "name": "stderr",
          "text": [
            "  0%|          | 0/1 [00:00<?, ?it/s]\n"
          ]
        },
        {
          "output_type": "error",
          "ename": "RuntimeError",
          "evalue": "ignored",
          "traceback": [
            "\u001b[0;31m---------------------------------------------------------------------------\u001b[0m",
            "\u001b[0;31mRuntimeError\u001b[0m                              Traceback (most recent call last)",
            "\u001b[0;32m<ipython-input-151-f14223d6baaa>\u001b[0m in \u001b[0;36m<module>\u001b[0;34m\u001b[0m\n\u001b[1;32m     10\u001b[0m \u001b[0;34m\u001b[0m\u001b[0m\n\u001b[1;32m     11\u001b[0m             \u001b[0mbatch_y\u001b[0m \u001b[0;34m=\u001b[0m \u001b[0mbatch_y\u001b[0m\u001b[0;34m.\u001b[0m\u001b[0mto\u001b[0m\u001b[0;34m(\u001b[0m\u001b[0mdevice\u001b[0m\u001b[0;34m)\u001b[0m\u001b[0;34m\u001b[0m\u001b[0;34m\u001b[0m\u001b[0m\n\u001b[0;32m---> 12\u001b[0;31m             \u001b[0mpred_y\u001b[0m \u001b[0;34m=\u001b[0m \u001b[0mmodel\u001b[0m\u001b[0;34m(\u001b[0m\u001b[0mbatch_coeffs\u001b[0m\u001b[0;34m)\u001b[0m\u001b[0;34m\u001b[0m\u001b[0;34m\u001b[0m\u001b[0m\n\u001b[0m\u001b[1;32m     13\u001b[0m \u001b[0;34m\u001b[0m\u001b[0m\n\u001b[1;32m     14\u001b[0m             \u001b[0mloss\u001b[0m \u001b[0;34m=\u001b[0m \u001b[0ml2_loss\u001b[0m\u001b[0;34m(\u001b[0m\u001b[0mpred_y\u001b[0m\u001b[0;34m,\u001b[0m\u001b[0mbatch_y\u001b[0m\u001b[0;34m)\u001b[0m\u001b[0;34m\u001b[0m\u001b[0;34m\u001b[0m\u001b[0m\n",
            "\u001b[0;32m/usr/local/lib/python3.7/dist-packages/torch/nn/modules/module.py\u001b[0m in \u001b[0;36m_call_impl\u001b[0;34m(self, *input, **kwargs)\u001b[0m\n\u001b[1;32m   1128\u001b[0m         if not (self._backward_hooks or self._forward_hooks or self._forward_pre_hooks or _global_backward_hooks\n\u001b[1;32m   1129\u001b[0m                 or _global_forward_hooks or _global_forward_pre_hooks):\n\u001b[0;32m-> 1130\u001b[0;31m             \u001b[0;32mreturn\u001b[0m \u001b[0mforward_call\u001b[0m\u001b[0;34m(\u001b[0m\u001b[0;34m*\u001b[0m\u001b[0minput\u001b[0m\u001b[0;34m,\u001b[0m \u001b[0;34m**\u001b[0m\u001b[0mkwargs\u001b[0m\u001b[0;34m)\u001b[0m\u001b[0;34m\u001b[0m\u001b[0;34m\u001b[0m\u001b[0m\n\u001b[0m\u001b[1;32m   1131\u001b[0m         \u001b[0;31m# Do not call functions when jit is used\u001b[0m\u001b[0;34m\u001b[0m\u001b[0;34m\u001b[0m\u001b[0;34m\u001b[0m\u001b[0m\n\u001b[1;32m   1132\u001b[0m         \u001b[0mfull_backward_hooks\u001b[0m\u001b[0;34m,\u001b[0m \u001b[0mnon_full_backward_hooks\u001b[0m \u001b[0;34m=\u001b[0m \u001b[0;34m[\u001b[0m\u001b[0;34m]\u001b[0m\u001b[0;34m,\u001b[0m \u001b[0;34m[\u001b[0m\u001b[0;34m]\u001b[0m\u001b[0;34m\u001b[0m\u001b[0;34m\u001b[0m\u001b[0m\n",
            "\u001b[0;32m<ipython-input-143-6297d4c9cf6f>\u001b[0m in \u001b[0;36mforward\u001b[0;34m(self, coeffs)\u001b[0m\n\u001b[1;32m     25\u001b[0m         \u001b[0;31m# print(X.interval) # [0,8]\u001b[0m\u001b[0;34m\u001b[0m\u001b[0;34m\u001b[0m\u001b[0;34m\u001b[0m\u001b[0m\n\u001b[1;32m     26\u001b[0m         \u001b[0mX0\u001b[0m \u001b[0;34m=\u001b[0m \u001b[0mX\u001b[0m\u001b[0;34m.\u001b[0m\u001b[0mevaluate\u001b[0m\u001b[0;34m(\u001b[0m\u001b[0mX\u001b[0m\u001b[0;34m.\u001b[0m\u001b[0minterval\u001b[0m\u001b[0;34m[\u001b[0m\u001b[0;36m0\u001b[0m\u001b[0;34m]\u001b[0m\u001b[0;34m)\u001b[0m\u001b[0;34m\u001b[0m\u001b[0;34m\u001b[0m\u001b[0m\n\u001b[0;32m---> 27\u001b[0;31m         \u001b[0mz0\u001b[0m \u001b[0;34m=\u001b[0m \u001b[0mself\u001b[0m\u001b[0;34m.\u001b[0m\u001b[0minitial\u001b[0m\u001b[0;34m(\u001b[0m\u001b[0mX0\u001b[0m\u001b[0;34m)\u001b[0m\u001b[0;34m\u001b[0m\u001b[0;34m\u001b[0m\u001b[0m\n\u001b[0m\u001b[1;32m     28\u001b[0m \u001b[0;34m\u001b[0m\u001b[0m\n\u001b[1;32m     29\u001b[0m         \u001b[0madjoint_params\u001b[0m \u001b[0;34m=\u001b[0m \u001b[0mtuple\u001b[0m\u001b[0;34m(\u001b[0m\u001b[0mself\u001b[0m\u001b[0;34m.\u001b[0m\u001b[0mfunc\u001b[0m\u001b[0;34m.\u001b[0m\u001b[0mparameters\u001b[0m\u001b[0;34m(\u001b[0m\u001b[0;34m)\u001b[0m\u001b[0;34m)\u001b[0m \u001b[0;34m+\u001b[0m \u001b[0;34m(\u001b[0m\u001b[0mcoeffs\u001b[0m\u001b[0;34m,\u001b[0m\u001b[0;34m)\u001b[0m\u001b[0;34m\u001b[0m\u001b[0;34m\u001b[0m\u001b[0m\n",
            "\u001b[0;32m/usr/local/lib/python3.7/dist-packages/torch/nn/modules/module.py\u001b[0m in \u001b[0;36m_call_impl\u001b[0;34m(self, *input, **kwargs)\u001b[0m\n\u001b[1;32m   1128\u001b[0m         if not (self._backward_hooks or self._forward_hooks or self._forward_pre_hooks or _global_backward_hooks\n\u001b[1;32m   1129\u001b[0m                 or _global_forward_hooks or _global_forward_pre_hooks):\n\u001b[0;32m-> 1130\u001b[0;31m             \u001b[0;32mreturn\u001b[0m \u001b[0mforward_call\u001b[0m\u001b[0;34m(\u001b[0m\u001b[0;34m*\u001b[0m\u001b[0minput\u001b[0m\u001b[0;34m,\u001b[0m \u001b[0;34m**\u001b[0m\u001b[0mkwargs\u001b[0m\u001b[0;34m)\u001b[0m\u001b[0;34m\u001b[0m\u001b[0;34m\u001b[0m\u001b[0m\n\u001b[0m\u001b[1;32m   1131\u001b[0m         \u001b[0;31m# Do not call functions when jit is used\u001b[0m\u001b[0;34m\u001b[0m\u001b[0;34m\u001b[0m\u001b[0;34m\u001b[0m\u001b[0m\n\u001b[1;32m   1132\u001b[0m         \u001b[0mfull_backward_hooks\u001b[0m\u001b[0;34m,\u001b[0m \u001b[0mnon_full_backward_hooks\u001b[0m \u001b[0;34m=\u001b[0m \u001b[0;34m[\u001b[0m\u001b[0;34m]\u001b[0m\u001b[0;34m,\u001b[0m \u001b[0;34m[\u001b[0m\u001b[0;34m]\u001b[0m\u001b[0;34m\u001b[0m\u001b[0;34m\u001b[0m\u001b[0m\n",
            "\u001b[0;32m/usr/local/lib/python3.7/dist-packages/torch/nn/modules/linear.py\u001b[0m in \u001b[0;36mforward\u001b[0;34m(self, input)\u001b[0m\n\u001b[1;32m    112\u001b[0m \u001b[0;34m\u001b[0m\u001b[0m\n\u001b[1;32m    113\u001b[0m     \u001b[0;32mdef\u001b[0m \u001b[0mforward\u001b[0m\u001b[0;34m(\u001b[0m\u001b[0mself\u001b[0m\u001b[0;34m,\u001b[0m \u001b[0minput\u001b[0m\u001b[0;34m:\u001b[0m \u001b[0mTensor\u001b[0m\u001b[0;34m)\u001b[0m \u001b[0;34m->\u001b[0m \u001b[0mTensor\u001b[0m\u001b[0;34m:\u001b[0m\u001b[0;34m\u001b[0m\u001b[0;34m\u001b[0m\u001b[0m\n\u001b[0;32m--> 114\u001b[0;31m         \u001b[0;32mreturn\u001b[0m \u001b[0mF\u001b[0m\u001b[0;34m.\u001b[0m\u001b[0mlinear\u001b[0m\u001b[0;34m(\u001b[0m\u001b[0minput\u001b[0m\u001b[0;34m,\u001b[0m \u001b[0mself\u001b[0m\u001b[0;34m.\u001b[0m\u001b[0mweight\u001b[0m\u001b[0;34m,\u001b[0m \u001b[0mself\u001b[0m\u001b[0;34m.\u001b[0m\u001b[0mbias\u001b[0m\u001b[0;34m)\u001b[0m\u001b[0;34m\u001b[0m\u001b[0;34m\u001b[0m\u001b[0m\n\u001b[0m\u001b[1;32m    115\u001b[0m \u001b[0;34m\u001b[0m\u001b[0m\n\u001b[1;32m    116\u001b[0m     \u001b[0;32mdef\u001b[0m \u001b[0mextra_repr\u001b[0m\u001b[0;34m(\u001b[0m\u001b[0mself\u001b[0m\u001b[0;34m)\u001b[0m \u001b[0;34m->\u001b[0m \u001b[0mstr\u001b[0m\u001b[0;34m:\u001b[0m\u001b[0;34m\u001b[0m\u001b[0;34m\u001b[0m\u001b[0m\n",
            "\u001b[0;31mRuntimeError\u001b[0m: expected scalar type Float but found Double"
          ]
        }
      ],
      "source": [
        "# training_process\n",
        "\n",
        "for epoch in range(num_epochs):\n",
        "        running_loss = 0\n",
        "        for i, batch in tqdm.tqdm(enumerate(train_dataloader),total = len(train_dataloader)):\n",
        "            optimizer.zero_grad()\n",
        "            batch_coeffs, batch_y = batch\n",
        "            batch_coeffs = batch_coeffs.to(device)\n",
        "            batch_coeffs.requires_grad = True\n",
        "      \n",
        "            batch_y = batch_y.to(device)\n",
        "            pred_y = model(batch_coeffs)\n",
        "            \n",
        "            loss = l2_loss(pred_y,batch_y) \n",
        "     \n",
        "            # Maybe we can use signature-loss instead\n",
        "            running_loss += loss.item()\n",
        "            \n",
        "            loss.backward()\n",
        "\n",
        "            optimizer.step()\n",
        "            \n",
        "        print('Training loss: {}'.format(running_loss /len(train_dataloader)))\n",
        "        running_loss = 0\n",
        "        torch.save(model, PATH)"
      ]
    },
    {
      "cell_type": "markdown",
      "source": [
        "# Testing"
      ],
      "metadata": {
        "id": "9XgUgKHVVPQO"
      }
    },
    {
      "cell_type": "markdown",
      "metadata": {
        "id": "6sUktWrXUWWB"
      },
      "source": [
        "Now we can draw out a test input pdb. We can use the following function to reconstruct\n",
        "\n",
        "ERROR: This script does not work! For more generation in testing, check another script called protein_inference.ipynb"
      ]
    },
    {
      "cell_type": "code",
      "execution_count": null,
      "metadata": {
        "id": "4SzZFVlQUV-p"
      },
      "outputs": [],
      "source": [
        "input_file = \"T1019s2.pdb\"\n",
        "test_Seq,test_Backbone = get_indiv_from_pdb(input_file, path = \"\",mode = MODE)\n",
        "_,gt_Backbone = get_indiv_from_pdb(input_file, path = \"\",mode = 'coord')\n",
        "X_test, y_test = crop_data([torch.tensor(sequence_to_onehot(test_Seq))],[torch.tensor(test_Backbone)],WINDOW,MODE)\n",
        "# WINDOW = 64\n",
        "sequence_length = len(test_Backbone)\n",
        "test_coeffs = torchcde.linear_interpolation_coeffs(X_test,rectilinear = 0).to(device)\n",
        "pred_y = model(test_coeffs)\n",
        "print(pred_y.size())\n",
        "\n",
        "# Here, the ouput is the cropped version of pred_y\n",
        "# We need to concat these together. Except the final one, we just simply construct a concatenation. \n",
        "# For the final one, we will simply connect it."
      ]
    },
    {
      "cell_type": "code",
      "execution_count": null,
      "metadata": {
        "id": "Rfg-pybOVACE"
      },
      "outputs": [],
      "source": [
        "DEFAULT = 120 # the default edge case angle is passed by 120\n",
        "def Concat_protein(pred_y,length,sequence,mode = 'coord'):\n",
        "  # length is the total length of input * 3\n",
        "  if mode == 'coord':\n",
        "      # the output is the coordinate version\n",
        "      batch_num, cropped_length, channel = pred_y.size()\n",
        "      Concat_list = []\n",
        "      Cat_index = length%cropped_length\n",
        "      for i in range(batch_num):\n",
        "          if i == batch_num - 1:\n",
        "            # the final one, we take last part\n",
        "            Concat_list.append(pred_y[i, -Cat_index:,:])\n",
        "          else:\n",
        "            # original one, directly append\n",
        "            Concat_list.append(pred_y[i,:,:])\n",
        "      return torch.concat(Concat_list,dim = 0)\n",
        "  else:\n",
        "    # the output is the torsion angle version\n",
        "    batch_num, cropped_length = pred_y.size()\n",
        "    torsion_list = []\n",
        "    Cat_index = length%cropped_length\n",
        "    for i in range(batch_num):\n",
        "      if i == batch_num - 1:\n",
        "        # the final one, we take the last part\n",
        "        torsion_list.append(list(pred_y[i, -Cat_index:]))\n",
        "      else:\n",
        "        #original one, directly concat\n",
        "        torsion_list.append(list(pred_y[i,:]))\n",
        "    torsion_list = [item for seq in torsion_list for item in seq]\n",
        "    rearranged_list = []\n",
        "    temp = None\n",
        "    for i,item in enumerate(torsion_list):\n",
        "      if i == 0:\n",
        "        rearranged_list.append((DEFAULT,item))\n",
        "      elif i == len(torsion_list) - 1:\n",
        "        rearranged_list.append((item,DEFAULT))\n",
        "      else:\n",
        "        if temp is None:\n",
        "          temp = item\n",
        "        else:\n",
        "          rearranged_list.append((temp,item))\n",
        "          temp = None\n",
        "    return Torsion_to_coord(rearranged_list,sequence)\n",
        "          "
      ]
    },
    {
      "cell_type": "code",
      "execution_count": null,
      "metadata": {
        "id": "-s-Th-AgGXGD"
      },
      "outputs": [],
      "source": [
        "from PeptideBuilder import Geometry\n",
        "import PeptideBuilder\n",
        "\n",
        "def Torsion_to_coord(rearranged_list,sequence):\n",
        "  # given a set of torsion angle and the corrosponding list, generate the output molecular model and calculate the coordiates\n",
        "  amino_seq = (sequence)\n",
        "  first_geo = Geometry.geometry(amino_seq[0])\n",
        "  first_geo.phi,first_geo.psi_im1 = rearranged_list[0]\n",
        "\n",
        "  structure = PeptideBuilder.initialize_res(first_geo)\n",
        "  for i in range(1,len(sequence)):\n",
        "    geo = Geometry.geometry(amino_seq[i])\n",
        "    geo.phi,geo.psi_im1 = rearranged_list[i]\n",
        "    PeptideBuilder.add_residue(structure, geo)\n",
        "  # add terminal oxygen (OXT) to the final glycine\n",
        "  PeptideBuilder.add_terminal_OXT(structure)\n",
        "\n",
        "  pdb_file = \"example.pdb\"\n",
        "  # Save as pdb file\n",
        "  out = Bio.PDB.PDBIO()\n",
        "  out.set_structure(structure)\n",
        "  out.save(pdb_file)\n",
        "  _,Backbone = get_indiv_from_pdb(pdb_file, path ='',mode = 'coord')\n",
        "  return Backbone"
      ]
    },
    {
      "cell_type": "code",
      "execution_count": null,
      "metadata": {
        "id": "RX4i5INCVgYW"
      },
      "outputs": [],
      "source": [
        "predict_path = Concat_protein(\n",
        "    pred_y.cpu().detach(),\n",
        "    sequence_length,\n",
        "    test_Seq,\n",
        "    mode = MODE\n",
        ")\n",
        "predict_path = predict_path\n",
        "\n",
        "gt_path = torch.tensor(gt_Backbone)\n"
      ]
    },
    {
      "cell_type": "markdown",
      "metadata": {
        "id": "_EmacuppYlHn"
      },
      "source": [
        "Now we print the ground_truth and the reconstructed value"
      ]
    },
    {
      "cell_type": "code",
      "execution_count": null,
      "metadata": {
        "id": "cF3lIkD-YoPx"
      },
      "outputs": [],
      "source": [
        "fig = plt.figure(figsize=(10,10))\n",
        "\n",
        "ax = fig.add_subplot(111, projection='3d')\n",
        "\n",
        "x1,y1,z1 = np.transpose(gt_path)\n",
        "x2,y2,z2 = np.transpose(predict_path)\n",
        "\n",
        "ax.plot(x1,y1,z1,label = \"Ground_truth path\")\n",
        "ax.plot(x2,y2,z2,label = \"Prediction path\")\n",
        "ax.set_title(f\"Cde-fold for protein folding on {input_file}\")\n",
        "plt.savefig(\"cde-fold.png\")\n",
        "plt.show()"
      ]
    }
  ],
  "metadata": {
    "colab": {
      "background_execution": "on",
      "collapsed_sections": [
        "HE9sCF7EU0XR"
      ],
      "name": "cde-protein-prediction.ipynb",
      "provenance": [],
      "machine_shape": "hm",
      "include_colab_link": true
    },
    "gpuClass": "standard",
    "kernelspec": {
      "display_name": "Python 3",
      "name": "python3"
    },
    "language_info": {
      "name": "python"
    }
  },
  "nbformat": 4,
  "nbformat_minor": 0
}